{
 "cells": [
  {
   "cell_type": "markdown",
   "metadata": {},
   "source": [
    "# Integration Skills 1: Integrated Numerical Model for the Water Balance of the Forum Ponds\n",
    "\n",
    "### M.K. van der Molen, E. Peeters,  and R. Dijksma\n",
    "### Notebook by Antonija Rimac\n",
    "\n",
    "## Contents\n",
    "\n",
    "1. Introduction\n",
    "\n",
    "1. Water balance      \n",
    "\n",
    "1. Formulating the water balance model\n",
    "   \n",
    "1. Realistic model\n",
    "\n",
    "1. Sensitivity study\n",
    "\n",
    "1. Finish the procedure\n",
    "\n",
    "\n",
    "## Chapter 1: Introduction\n",
    "\n",
    "In *Integration Skills 1 and 2*, you will focus on development of an integrated numerical model to simulate the quantitative and qualitative water balance of one of the Forum ponds on the Wageningen University campus. You will build on the knowledge you collected in Basic Skills Hydrology, Water Quality, Air Quality, Soil Quality and Meteorology. The quantitative Water Balance model build in *Integration Skills 1*, you will use again in *Integration Skills 2* in order to expand it to a water quality model. The final product will also be used in the *PBL phase* of the course.\n",
    "\n",
    "<p style=\"background:powderblue;color:black\">(Python coding explanation:) > Some parts of the notebook are again marked in (powder)blue. These parts give some more in-depth explanation about coding in Python/Jupyter Notebooks.<br></p>\n",
    "\n",
    "Note that the \"Jupyter notebook\" practical consists of so-called code cells and markdowns cells. Markdown cells are used to write text, pose questions, and for you to write your notes. Code cells are used to write parts of a numerical code or program. In each code cell we write a necessary part of a code and we write some comments that start with the mark \"#\". In the comment, we explain (again) what we calculate or plot. To obtain a result of a calculation i.e., a figure (note that most of the calculations we have already done for you), you will need to run a cell. You can do that by clicking on a cell and pressing simultaneously **Shift Enter**. Only then you will be able to see the result of the calculation and only then will the figures appear on your screen. Happy notebooking!\n",
    "\n",
    "<div align=center>\n",
    "<figure>\n",
    "  <img src=\"DataCamp.png\", width=\"300\" height=\"175\">\n",
    "  \n",
    "</figure>\n",
    "</div>\n",
    "\n",
    "<p style=\"background:powderblue;color:black\">The Integration Course is supported by <a href=\"https://www.datacamp.com/groups/shared_links/ac22b776f22781dd0fb789d58bcef3e6fd7ac3931763d843264b05aa742e975a\">DataCamp</a>, an intuitive learning platform for data science and analytics. Learn any time, anywhere and become an expert in R, Python, SQL, and more. DataCamp’s learn-by-doing methodology combines short expert videos and hands-on-the-keyboard exercises to help learners retain knowledge. Subscribe with your @WUR.nl email address and participate in focussed assignments.</p>\n",
    "\n"
   ]
  },
  {
   "cell_type": "markdown",
   "metadata": {},
   "source": [
    "___\n",
    "## Setting up Python modules\n",
    "\n",
    "We start the tutorial by loading the required Python packages. In the cell below we load the necessary python packages (if some warning signs or requirement signs appear, ignore them)."
   ]
  },
  {
   "cell_type": "code",
   "execution_count": null,
   "metadata": {},
   "outputs": [],
   "source": [
    "# Load necessary python packages. This is to give Python the proper functionality.\n",
    "#import sys\n",
    "#!{sys.executable} -m pip install matplotlib pandas cufflinks > /dev/null; # Remove > /dev/null in case of errors.\n",
    "\n",
    "import os\n",
    "teacher_dir  = os.getenv('TEACHER_DIR')\n",
    "\n",
    "import sys\n",
    "sys.path.append(teacher_dir + '/JHL_data/pictures/')\n",
    "\n",
    "import nemo\n",
    "from ipywidgets import interact\n",
    "import numpy as np\n",
    "from numpy import log as ln\n",
    "import matplotlib.pyplot as plt\n",
    "import pandas as pd\n",
    "import cufflinks as cf\n",
    "import os"
   ]
  },
  {
   "cell_type": "markdown",
   "metadata": {},
   "source": [
    "## Chapter 2: Water balance\n",
    "\n",
    "The model you will develop here is based on the conservation equation of water in the Forum pond, which is expressed as:\n",
    "\n",
    "\\begin{equation*}\n",
    "\\frac{dV}{dt} = P-E+Q_{k,in}-Q_{k,out}+Q_{l,in}-Q_{l,out}.\n",
    "\\end{equation*}\n",
    "\n",
    "In the equation, $V$ is the water volume in the pond, $dV/dt$ is the change in water volume in time. This change can be described as the sum of several processes. Those are precipitation $P$, evaporation $E$, vertical in- and outflows $Q_{k,in}$ and $Q_{k,out}$, and lateral in- and outflows $Q_{l,in}$ and $Q_{l,out}$. All terms are given in m$^3$h$^{-1}$. Additional terms may be added to represent e.g., irrigation.\n",
    "\n",
    "The water volume at any time is the integral of volume changes in the past given as:\n",
    "\n",
    "\\begin{equation*}\n",
    "V_t = \\int_{t_1}^{t_2}\\frac{dV}{dt}dt.\n",
    "\\end{equation*}\n",
    "\n",
    "Since our integral is difficult to solve analytically, we will solve it numerically as:\n",
    "\n",
    "\\begin{equation*}\n",
    "V_{t+\\Delta t} = V_t+\\frac{dV}{dt}\\times \\Delta t.\n",
    "\\end{equation*}\n",
    "\n",
    "This equation basically formulates that the water volume at time $t+\\Delta t$ depends on the volume at time $t$ plus the change in volume during time unit $\\Delta t$. This implies a linearization of the differential equation where the time step $\\Delta t$ must be chosen sufficiently small for $dV/dt$ to be constant over time unit $\\Delta t$.\n",
    "\n",
    "## Chapter 3 Formulating the water balance model\n",
    "\n",
    "In the Basic Skills Air Quality you computed NH$_3$ deposition fluxes. The results you obtained for time $t$ did not depend on those at earlier times. This made that the calculations for all time steps could be done at once. In the water balance model the water volume at time $t$ does depend on the water value at time $t - \\Delta t$, because e.g., the outflow from the pond depends on the water volume in the pond. Therefore, we need to explicitely integrate in time. Fortunately, such integrations are simple enough to do in a computer model. We only need to set initial conditions and to quantify the terms in the budget equation. \n",
    "\n",
    "### Section 3.1 Physical constants and parameters \n",
    "\n",
    "Before we set up the initial condition for the model, let's collect necessary physical constants and parameters for the model. \n",
    "\n",
    "<ul>\n",
    "<li><p style=\"background:powderblue;color:black\">Constants we will use in this model are the latent heat of vaporisation `Lv` [J kg$^{-1}$] and the psychrometer constant `gamma` [kPa K$^{-1}$].</li><br>\n",
    "<li><p style=\"background:powderblue;color:black\">Parameters are settings to the model. They often represent choices you make. As such they are different from physical constants which are fixed in all conditions. In this situation, they are the time step `dt` [h], surface area of the pond A [m$^2$], maximum level of the pond `d_max` [m], deepest level of the pond `d_min` [m] and maximum volume of the pond `V_max` [m$^3$].\n",
    "</li></ul>"
   ]
  },
  {
   "cell_type": "code",
   "execution_count": null,
   "metadata": {},
   "outputs": [],
   "source": [
    "# Set the value of physical constants.           \n",
    "Lv     = 2.45e6                # Latent heat of vaporisation [J/kg ]\n",
    "gamma  = 0.066                 # Psychrometer constant [kPa/K]\n",
    "\n",
    "# Set the parameters                   \n",
    "dt     = 1.                    # Time step [h]\n",
    "A      = 5000.                 # Surface area [m2]\n",
    "d_max  = 0.                    # Maximum level (height above the surface) [m]\n",
    "d_min  = -3.                   # Minimum level (depth below the surface)  [m]\n",
    "V_max  = A * (d_max-d_min)     # Max volume [m3]"
   ]
  },
  {
   "cell_type": "markdown",
   "metadata": {},
   "source": [
    "### Section 3.2: Initial conditions\n",
    "\n",
    "The initial condition is the state where we start the model. For simplicity, here we will start with a pond that is filled to the rim. If any more water is added, it will spill over the rim. Thus, the initial volume equals:\n",
    "\n",
    "\\begin{equation*}\n",
    "V_{ini} = A \\times (d_{max} – d_{min}), \n",
    "\\end{equation*}\n",
    "\n",
    "where $A$ is the pond’s surface area in m$^2$, and $d_{max}$ and $d_{min}$ are the maximum and minimum depth of the pond in m above sealevel. \n",
    "\n",
    "<ul>\n",
    "<li><p style=\"background:powderblue;color:black\">Assume here that the initial volume `V_ini` [m$^3$] is equal to the maximum value of the pond `V_max`. If the initial value os larger than the maximum value than set it to be equal to the maximum value.</li></ul>"
   ]
  },
  {
   "cell_type": "code",
   "execution_count": null,
   "metadata": {},
   "outputs": [],
   "source": [
    "# Initial conditions\n",
    "V_ini  = V_max           # The initial Volume [m3] \n",
    "\n",
    "# If the initial volume is larger than the maximum volume of the pond, \n",
    "# set it to be equal to the maximum value.\n",
    "if V_ini > V_max :\n",
    "    V_ini = V_max"
   ]
  },
  {
   "cell_type": "markdown",
   "metadata": {},
   "source": [
    "### Section 3.3 Tendencies\n",
    "\n",
    "Tendencies describe how the water volume changes at some point in time due to a specific process. The variables that cause the change are for example precipitation $P$, evaporation $E$ and water flow terms $Q$ in the balance equation. \n",
    "\n",
    "In the next cell, we will: \n",
    "\n",
    "<ul>\n",
    "<li><p style=\"background:powderblue;color:black\">Load the meteorological data of global radiation `Rg` [W m$^{-2}$], air temperature `Ta` [degC] and precipitation `P` [mm] measured at Veenkampen station from 2013 to 2021.</li><br>\n",
    "<li><p style=\"background:powderblue;color:black\">Convert precipitation from mm to m$^3$ h$^{-1}$ using the pond's surface area `A`.</li><br>    \n",
    "<li><p style=\"background:powderblue;color:black\">For simplicity, we assume (for now) that evaporation $E$ and the $Q$-terms are constant in time.</li><ul>"
   ]
  },
  {
   "cell_type": "code",
   "execution_count": null,
   "metadata": {},
   "outputs": [],
   "source": [
    "# Load the meteorological data. \n",
    "# Load precipitation (P; mm), air temperature (Ta; degC) and global radiation (Rg; W m^-2).\n",
    "teacher_dir        = os.getenv('TEACHER_DIR')\n",
    "datapath           = teacher_dir + '/JHL_data/IC_data/'\n",
    "\n",
    "df_meteo           = pd.read_csv(datapath + 'Data_Meteo_Veenkampen_2013-2021.csv', sep=';', \n",
    "                                 index_col='date-time', usecols=['date-time', 'Rg', 'Ta', 'P'], \n",
    "                                 parse_dates=['date-time'])\n",
    "\n",
    "# Convert precipitation using the pond's surface area.\n",
    "df_meteo['P'     ] = df_meteo['P']*A/1000.\n",
    "\n",
    "# Set evaporation and lateral inflow to have constant values.\n",
    "df_meteo['E'     ] = 0.5   # m3/hr\n",
    "df_meteo['Ql_in' ] = 0.1   # m3/hr \n",
    "df_meteo['Qk_in' ] = 0.0   # m3/h \n",
    "df_meteo['Qk_out'] = 0.0   # m3/h"
   ]
  },
  {
   "cell_type": "markdown",
   "metadata": {},
   "source": [
    "### Exercise 1: Change of tendencies in time\n",
    "\n",
    "In this exercise, you will look at the change of precipitation in time. \n",
    "\n",
    "### Question 1.1:\n",
    "\n",
    "1. Does the Veenkampen meteorological station experience wetter and drier seasons?<br>\n",
    "2. Do you expect Forum ponds at one moment during the to be filled up to the rim and when?<br>\n",
    "\n",
    "To answer question 1.1 do the following:\n",
    "\n",
    "- Plot the precipitation as a function of time in the first cell box below.<br> \n",
    "\n",
    "- Write your results in the second cell box below. To answer your questions, you should fill in the sentences below. <br>\n",
    "`1. The Veenkampen meteorological station (x = 'does/does not') experience wetter and drier seasons.`<br>\n",
    "`2. I (y = 'do/do not') expect the Forum Ponds to be filled up to the rim at the end of the (z1 = 'winter/spring/summer/autumn').`"
   ]
  },
  {
   "cell_type": "code",
   "execution_count": null,
   "metadata": {
    "scrolled": false
   },
   "outputs": [],
   "source": [
    "# Plot the time series of precipitation. Here 3-monthly total precipitation is shows. \n",
    "# Plot Time [year] on x-axis and Precipitation [m^3/h] on y-axis. \n",
    "fig1 = df_meteo['P'].groupby(pd.Grouper(freq='Q')).mean().iplot(asFigure=True, xTitle='Time [year]', \n",
    "                                                            yTitle='Precipitation [m\\u00B3 h\\u207B\\u00B9]', width=2) \n",
    "fig1.show()"
   ]
  },
  {
   "cell_type": "code",
   "execution_count": null,
   "metadata": {},
   "outputs": [],
   "source": [
    "# Write your answers:\n",
    "# x: The Veenkampen meteorological station (x = 'does/does not') experience wetter and drier seasons. \n",
    "# y, z: I (y = 'do/do not') expect the Forum Ponds to be filled up to the rim at the end of the \n",
    "# (z = 'winter/spring/summer/autumn').\n",
    "x = 'does not'\n",
    "y = 'do'\n",
    "z = 'winter'\n",
    "\n",
    "nemo.check_my_answer_ISa1_1(x, y, z)"
   ]
  },
  {
   "cell_type": "markdown",
   "metadata": {},
   "source": [
    "### Section 3.4 Integration in time\n",
    "\n",
    "At this point, you have an initial volume of water in the pond $V_{ini}$, the precipitation $P$ and (constant) evaporation $E$, lateral inflow $Q_{l,in}$, and vertical inflow $Q_{k,in}$. \n",
    "\n",
    "In the next cell, we will: \n",
    "\n",
    "<ul>\n",
    "<li><p style=\"background:powderblue;color:black\">Setup the initial conditions for volume `df_meteo['V']` in m$^3$, water volume change df_meteo['dV_dt' ] in m$^3$ h$^{-1}$, and lateral outflow `df_meteo['Ql_out']` in m$^3$ h$^{-1}$ of the pond.</li><br>\n",
    "<li><p style=\"background:powderblue;color:black\">Finally, we will integrate the model in time by computing the volume of the next time step using the equation introduced as: $V_{t+\\Delta t} = V_t + dV/dt \\times \\Delta t$ </li><ul>"
   ]
  },
  {
   "cell_type": "code",
   "execution_count": null,
   "metadata": {},
   "outputs": [],
   "source": [
    "# Initialisation of arrays.\n",
    "df_meteo['V']                      = V_ini    # m3   initial volume\n",
    "df_meteo['dV_dt' ]                 = 0.0      # m3/h initial water volume change in time (tencendy)\n",
    "df_meteo['Ql_out']                 = 0.       # m3/h initial lateral outflow\n",
    "\n",
    "# Time integration. Here we loop over time, calculate the outflow tendency, calculate the new volume based on the tendencies\n",
    "# and start again for the next time step.\n",
    "nt                                 = len(df_meteo)\n",
    "for it in range(1,nt):\n",
    "    it_now                         = df_meteo.index[it  ]\n",
    "    it_prev                        = df_meteo.index[it-1]\n",
    "    df_meteo.at[it_now, 'Ql_out']  = max(0., df_meteo.at[it_prev, 'V'] - V_max)\n",
    "    df_meteo.at[it_now, 'dV_dt']   = df_meteo.at[it_now, 'P'    ] - df_meteo.at[it_now, 'E'     ] \\\n",
    "                                   + df_meteo.at[it_now, 'Qk_in'] - df_meteo.at[it_now, 'Qk_out'] \\\n",
    "                                   + df_meteo.at[it_now, 'Ql_in'] - df_meteo.at[it_now, 'Ql_out']\n",
    "    df_meteo.at[it_now, 'V']       = df_meteo.at[it_prev, 'V']    + df_meteo.at[it_now, 'dV_dt']*dt "
   ]
  },
  {
   "cell_type": "markdown",
   "metadata": {},
   "source": [
    "### Exercise 2: Change of volume in time\n",
    "\n",
    "In this exercise, after you performed time integration of the water volume in the Forum Ponds, you will look at the change of this volume. \n",
    "\n",
    "### Question 2.1: \n",
    "\n",
    "1. Do you observe a seasonal cycle in the water volume?<br>\n",
    "2. How can you explain this based on the simple settings we choose for the evaporation and $Q$-terms?<br>\n",
    "3. In which winters does the pond fill to the rim and in which other years does it not?<br>\n",
    "4. When is the pond filled up to the rim in 2021 and why?<br>\n",
    "\n",
    "To answer question 2.1 do the following: \n",
    "\n",
    "- Plot the calculated water volume as a function of time in the first cell box below.<br>\n",
    "\n",
    "- Write your results in the second cell box below. To answer your questions, you should fill in the sentences below. Note that when you are answering the *second* question in stead of `parameter` you need to write a correct name of the parameter influencing the water volume of Forum Ponds. In the *third* question, instead of `lower year/higher year` you need to write the exact year numbers. Finally, in the *fourth* question, instead of `Month` you need to write a full name of the month, while instead of `letter` you need to add a letter that corresponds to the correct answer.<br>\n",
    "`1. I (x = 'do/do not') observe a seasonal cycle in the water volume.`<br>\n",
    "`2. We set up a (y1 = 'varying/constant') value for evaporation and Q-terms. This means that the volume will depend only on the amount of ('y2 = 'parameter', e.g. 'radiation','precipitation','evaporation') in each year.`<br>\n",
    "`3. The pond is filled to the rim in years: z = year1/year2 year (e.g. z='2014/2015', enter 4 winters).`<br>\n",
    "`4. During 2021, the pond is filled to the rim in (q1 = 'Month'). This happend due to q2:` <br>\n",
    "`a: accumulated precipitation`<br>\n",
    "`b: exterme precipitation during summer`<br>\n",
    "`c: lower evaporation during that year`."
   ]
  },
  {
   "cell_type": "code",
   "execution_count": null,
   "metadata": {},
   "outputs": [],
   "source": [
    "# Plot the time series of calculated water volume. \n",
    "# Plot Time [year] on x-axis and Volume [m^3] on y-axis. \n",
    "# Note that for easier recogniotion we divided the volume by 1000. \n",
    "units_volume = '[10\\u00b3 m\\u00b3]'\n",
    "fig2 = (df_meteo['V']/1000).iplot(asFigure=True, xTitle='Time [year]', yTitle='Volume '+units_volume, width=2) \n",
    "fig2.show()"
   ]
  },
  {
   "cell_type": "code",
   "execution_count": null,
   "metadata": {},
   "outputs": [],
   "source": [
    "# Write your answers:\n",
    "# x: I (x = 'do/do not') observe a seasonal cycle in the water volume.\n",
    "# y1: We assigned Evaporation E and the Q-terms a (y1 = 'varying/constant') value.\n",
    "# y2: This means that the volume will depend only on the amount of \n",
    "# ('y2 = 'parameter', e.g. 'radiation','precipitation','evaporation') in each year.\n",
    "# z: The pond is filled to the rim in the winter of: z = year1/year2 (e.g. z='2014/2015', enter 4 winters).\n",
    "# q1, q2: During 2021, the pond is filled to the rim in (q1 = 'Month'). \n",
    "# This happend due to q2: a: accumulated precipitation, b: exterme precipitation during summer or \n",
    "# c: lower evaporation during that year.\n",
    "x  = 'do not'\n",
    "y1 = 'constant'\n",
    "y2 = 'precipitation'\n",
    "z  = '2014/2015', '2015/2016', '2017/2018', '2019/2020'\n",
    "q1 = 'August'\n",
    "q2 = 'a'\n",
    "\n",
    "nemo.check_my_answer_ISa2_1(x, y1, y2, z, q1, q2)"
   ]
  },
  {
   "cell_type": "markdown",
   "metadata": {},
   "source": [
    "## Chapter 4 Realistic model\n",
    "\n",
    "So far, we have formulated and tested a quantitative water balance model with very simple assumptions. And it works! Thus, congratulations, you have made the largest step already! You may realise now that you developed a time explicit water balance model. The model formulations are simple, and it produces a result that may be explained based on the input $P$, $E$ and $Q$ tendency terms. \n",
    "\n",
    "Of these tendency terms, only the values of precipitation $P$ were realistic. For simplicity, we have assumed that the evaporation $E$ and the $Q$-terms (all except the lateral outflow) were constant in time, and many of the $Q$-terms were even set to zero. In reality, evaporation varies in time and the lateral inflow and vertical flows depend on the land unit your group is  assigned to. So, the only thing left to do is formulate more realistic expressions for the evaporation and the Q-terms.\n",
    "\n",
    "In the next steps, we will make evaporation $E$ and $Q$-terms (i.e., $Q_{l,in}$, $Q_{k,in}$ and $Q_{k,out}$) more realistic and specific for the pond whose water volume we are trying to simulate. \n",
    "\n",
    "### Section 4.1 Evaporation\n",
    "\n",
    "The constant evaporation rate is not very realistic, because evaporation rate depends on temperature, vapor pressure deficit and/or the available energy for evaporation. There are different approaches towards realistically estimating the evaporation rates from ponds or vegetation. Here, we will introduce two approaches: the Makkink and gradient-resistance approach."
   ]
  },
  {
   "cell_type": "markdown",
   "metadata": {},
   "source": [
    "### Exercise 3: Makkink approach (from Basic Skills Meteorology)\n",
    "\n",
    "In the Basic Skills Meteorology, you learned how to estimate the evaporation based on the Makkink's approach. First, you should estimate the reference evaporation rate, i.e., the evaporation rate that occurs if the soil has optimal conditions, $E_{ref}$ in kg m$^2$ s$^{-1}$ as:\n",
    "\n",
    "\\begin{equation*}\n",
    "E_{ref} = 0.65\\frac{1}{L_v}\\frac{s}{s+\\gamma}R_g,\n",
    "\\end{equation*} \n",
    "\n",
    "where $R_g$ is the global radiation in W m$^{-2}$, $L_v=2.45\\cdot 10^6$ kg J$^{-1}$ is the latent heat of vaporization, $\\gamma=0.066$ kPa K$^{-1}$ is the psychrometer constant at 20 degrees, and $s$ is the derivative of the saturation vapour pressure deficit in kPa. The saturation vapor pressure deficit can be written as:\n",
    "\n",
    "\\begin{equation*}\n",
    "s(T) = e_s(T)\\frac{\\ln(10)\\times a \\times b}{(b + T)^2},\\\\\n",
    "e_s(T) = e_s(0 ^\\circ C)\\cdot 10^{\\frac{a \\times T}{b + T}},\n",
    "\\end{equation*}\n",
    "\n",
    "with $e_s$(0) = 0.6107 kPa, a = 7.5 and b = 237.3 $^\\circ $C, and with $T$ as the air temperature in $^{\\circ}$C. \n",
    "\n",
    "### Question 3.1:\n",
    "\n",
    "1. How does using the Makkink's approach change the volume compared to the volume obtained using the simple approach with the constant evaporation?<br>\n",
    "2. How does the volume change in summer?<br>\n",
    "3. How does the volume change in the winter?<br>\n",
    "\n",
    "To answer question 3.1 do the following:\n",
    "\n",
    "<ul>\n",
    "<li><p style=\"background:powderblue;color:black\">In the first cell box below, set up the constants and make a calculation of the saturation vapor pressure deficit `df_meteo['es']` and the reference evaporation `df_meteo['E_ref']`.</li><br>\n",
    "<li><p style=\"background:powderblue;color:black\">Calculate the evaporation rate based on the Makkink approach. To get the evaporation rate we  need to translate the reference evaporation to the evaporation of a specific vegetation or land surface type. We look at the evaporation above water. Thus, it can be obtained as: $E=C_xE_{ref}$, where $C_x$ is a factor that depends on a crop type, or in this case water.</li><br>\n",
    "<li><p style=\"background:powderblue;color:black\">Initialize the arrays for volume and lateral outflow.</li><br>\n",
    "<li><p style=\"background:powderblue;color:black\">Setup the initial conditions for lateral outflow, water volume change in time and water volume in the pond.</li><br>\n",
    "<li><p style=\"background:powderblue;color:black\">Finally, we will integrate the model in time by computing the volume of the next time step using the equation introduced as: $V_{t+\\Delta t} = V_t + dV/dt \\times \\Delta t$ </li><br>\n",
    "<li><p style=\"background:powderblue;color:black\">In the second box below, plot the result for the evaporation rate based on Makkink's approach (blue line) and compare it with the result obtained when using the constant evaporation (orange line).</li><ul>"
   ]
  },
  {
   "cell_type": "markdown",
   "metadata": {},
   "source": [
    "- Write your results in the third cell box below. If there is more than one correct answer under y = 'letter', separate each answer by a comma, and write each letter under ''. <br>\n",
    "`1. Using the Makkink method gives (x = 'more/less') realistic simulation of water volume. This happens because the Makkink method depends on (y = 'letter', multiple answers may be correct, then type e.g. y = 'b','c').`<br>\n",
    "`    'a' periodic change in the atmospheric temperature`,<br>\n",
    "`    'b' periodic change in the saturation vapour pressure deficit`,<br>\n",
    "`    'c' periodic change in the global radiation`.<br>\n",
    "`2. During summer, the pond is (z = 'more/less') full when we use the Makkink method.`<br>\n",
    "`3. Appart from (u1 = 'lower number/higher number') winter, all winters show full ponds when using the (u2 = 'simple/Makkink') method.`"
   ]
  },
  {
   "cell_type": "code",
   "execution_count": null,
   "metadata": {},
   "outputs": [],
   "source": [
    "# Set up some constants and make a calculation for the saturation vapor pressure deficit es [kPa]\n",
    "# the reference evaporation E_ref [kg m^2/s] and the crop factor for water Cx. \n",
    "es_0                                  = 0.6107      # kPa\n",
    "a                                     = 7.5         #\n",
    "b                                     = 237.3       # degC\n",
    "Cx                                    = 1.25        # 'Crop' factor for water.\n",
    "df_meteo['es'   ]                     = es_0*10**((a*df_meteo['Ta']) /(b+df_meteo['Ta']))\n",
    "df_meteo['s'    ]                     = df_meteo['es']*ln(10)*a*b    /(b+df_meteo['Ta'])**2\n",
    "df_meteo['E_ref']                     = 0.65*(1/Lv)*(df_meteo['s']/(df_meteo['s']+gamma))*df_meteo['Rg']\n",
    "\n",
    "# Calculate the evaporation rate based on the Makkink approach (E_mak; m^3 h^-1).\n",
    "# The units change between the reference evaporation and the actual evaporation rate.\n",
    "df_meteo['E_mak']                     = Cx*df_meteo['E_ref']*3600.*A/1000.\n",
    "\n",
    "# Initialise arrays.\n",
    "df_meteo['V_mak'     ]                = V_ini       # m3   initial water volume in the pond\n",
    "df_meteo['Ql_out_mak']                = 0.          # m3/h initial lateral outflow\n",
    "df_meteo['dV_dt_mak' ]                = 0.0         # m3/h initial water volume change in time\n",
    "\n",
    "# Time integration. \n",
    "nt = len(df_meteo)\n",
    "for it in range(1, nt):\n",
    "    it_now                            = df_meteo.index[it  ]\n",
    "    it_prev                           = df_meteo.index[it-1]\n",
    "    df_meteo.at[it_now, 'Ql_out_mak'] = max(0., df_meteo.at[it_prev, 'V_mak'] - V_max)\n",
    "    df_meteo.at[it_now, 'dV_dt_mak']  = df_meteo.at[it_now, 'P'    ] - df_meteo.at[it_now, 'E_mak'     ] \\\n",
    "                                      + df_meteo.at[it_now, 'Qk_in'] - df_meteo.at[it_now, 'Qk_out'    ] \\\n",
    "                                      + df_meteo.at[it_now, 'Ql_in'] - df_meteo.at[it_now, 'Ql_out_mak']\n",
    "    df_meteo.at[it_now, 'V_mak']      = df_meteo.at[it_prev,'V_mak'] + df_meteo.at[it_now, 'dV_dt_mak']*dt "
   ]
  },
  {
   "cell_type": "code",
   "execution_count": null,
   "metadata": {
    "scrolled": false
   },
   "outputs": [],
   "source": [
    "# Save the volumes in the same data frame for easier plotting.\n",
    "df_volume = pd.concat([df_meteo['V'], df_meteo['V_mak'], ], axis=1, sort=False)\n",
    "df_volume.columns = ['V','V_mak']\n",
    "\n",
    "# Plot the time series of calculated water volume. \n",
    "# Plot Time [year] on x-axis and Volume [m^3] on y-axis. \n",
    "# Note that for easier recogniotion we divided the volume by 1000. \n",
    "fig3 = (df_volume/1000).iplot(asFigure=True, xTitle='Time [year]', yTitle='Volume [10\\u00b3 m\\u00b3]', width=2) \n",
    "fig3.show()"
   ]
  },
  {
   "cell_type": "code",
   "execution_count": null,
   "metadata": {},
   "outputs": [],
   "source": [
    "# Write your answers.\n",
    "# x: Using the Makkink method gives (x = 'more/less') realistic simulation of water volume.\n",
    "# y: This happens because the Makkink method depends on (y = 'letter', multiple answers may be correct, e.g. y = 'b','c' ).\n",
    "#     'a': periodic change in the atmospheric temperature,\n",
    "#     'b': periodic change in the saturation vapour pressure deficit,\n",
    "#     'c': periodic change in the global radiation.\n",
    "# z: During summer, the pond is (z = 'more/less') full when we use the Makkink method.\n",
    "# u1, u2: Appart from (u1 = 'lower number/higher number') winter, all winters show full ponds \n",
    "# when using the (u2 = 'simple/Makkink') method.\n",
    "x  = 'more'\n",
    "y  = 'a','b','c'\n",
    "z  = 'less'\n",
    "u1 = '2018/2019', '2020/2021'\n",
    "u2 = 'Makkink'\n",
    "\n",
    "nemo.check_my_answer_ISa3_1(x, y, z, u1, u2)"
   ]
  },
  {
   "cell_type": "markdown",
   "metadata": {},
   "source": [
    "### Section 4.2 Background information: Penman or Gradient-resistance approach \n",
    "The information presented here is intended as a background information. The Makkink evaporation method is quite simplistic and aimed at quantifying daily or weekly evaporation. A more precise method is the Penman method, based on the gradient resistance approach (which you used to quantify the NH$_3$ deposition flux in Basic Skills Air Quality). In Penman method, evaporation from a pond is limited by the aerodynamical resistance $r_a$. You may therefore express the evaporation rate as:\n",
    "\n",
    "\\begin{equation*}\n",
    "E=\\rho\\frac{q_s(T_{water})-q_a}{r_a},\n",
    "\\end{equation*}\n",
    "\n",
    "where $q_s$ [g kg$^{-1}$, or \\%] is the specific saturation humidity at the pond's water temperature, $q_a$ [g kg$^{-1}$, or \\%] is the specific humidity of the air at a reference level, $\\rho$ [kg m$^{-3}$] is the air density which we may assume here to be a constant at 1.2 kg m$^{-3}$, while $r_a$ [s m$^{-1}$] is the aerodynamical resistance.\n",
    "\n",
    "Before we can estimate the new evaporation, we need to calculate the saturation and actual specific humidity as:\n",
    "\n",
    "\\begin{equation*}\n",
    "q_s = \\frac{R_d}{R_v}\\frac{e_s(T)}{p}, \\\\\n",
    "q_a = RH\\cdot q_s, \\\\\n",
    "e_s(T) = e_s(0 ^\\circ C)\\cdot10^{\\frac{a \\times T_{water}}{b+T_{water}}},\n",
    "\\end{equation*}\n",
    "\n",
    "where $R_d = 287$ J kg$^{-1}$ K$^{-1}$ and $R_v = 462$ J kg$^{-1}$ K$^{-1}$ are the gas constants for dry air and water vapour, respectively, $p = 101.3$ kPa is the air pressure at the sea level, and $RH$ (-) is the relative humidity, $e_s(0) = 0.6107$ kPa, $a = 7.5$ and $b = 237.3 ^\\circ $C  and $T$ is the air/water temperature in $^{\\circ}$C. \n",
    "\n",
    "In this formulation, you need an expression of the water temperature, which usually lags behind the air temperature."
   ]
  },
  {
   "cell_type": "markdown",
   "metadata": {},
   "source": [
    "### Exercise 4: Lateral inflow and vertical flow\n",
    "\n",
    "So far, we chose the lateral inflow $Q_{l,in}$ as a small enough value to ensure that the pond does not drain over time. However, this value is no more than a wild guess. Vertical flow $Q_{l,in}$ into the ponds maybe estimated according to the methods explained in Basic Skills Hydrology, using data from [Dinoloket](https://www.dinoloket.nl/). For this purpose you will make a geological cross section of the campus area to obtain information about water wearing layers and water resisting layers in the subsoil. Subsequently, you may use [Grondwatertools](https://www.grondwatertools.nl/) to create isohypse maps of the campus. With these tools you can estimate $Q_{k,in}$ and $Q_{k,out}$.\n",
    "\n",
    "N.B.: you may derive the values for the Forum ponds or for your group's land unit.\n",
    "\n",
    "### Question 4.1:\n",
    "\n",
    "1. How does implementing realistic values for Q-terms change the pond's volume? <br>\n",
    "\n",
    "<ul>\n",
    "<li><p style=\"background:powderblue;color:black\">Set up the constants and make a calculation of the saturation vapor pressure deficit `df_meteo['es']` and the reference evaporation `df_meteo['E_ref']`.</li><br>\n",
    "<li><p style=\"background:powderblue;color:black\">Calculate the evaporation rate based on the Makkink approach. To get the evaporation rate we  need to translate the reference evaporation to the evaporation of a specific vegetation or land surface type. We look at the evaporation above water. Thus, it can be obtained as: $E=C_xE_{ref}$, where $C_x$ is a factor that depends on a crop type, or in this case water.</li><br>\n",
    "<li><p style=\"background:powderblue;color:black\">Add realistic values for the Forum pond or your group's land unit.</li><br>    \n",
    "<li><p style=\"background:powderblue;color:black\">Initialize the arrays for volume and lateral outflow.</li><br>\n",
    "<li><p style=\"background:powderblue;color:black\">Setup the initial conditions for lateral outflow, water volume change in time and water volume in the pond.</li><br>\n",
    "<li><p style=\"background:powderblue;color:black\">Finally, we will integrate the model in time by computing the volume of the next time step using the equation introduced as: $V_{t+\\Delta t} = V_t + dV/dt \\times \\Delta t$ </li><br>\n",
    "<li><p style=\"background:powderblue;color:black\">In the second box below, plot the result for the water volume based on the new realistic values for the Q-terms (green line), Makkink's approach (blue line) and the result obtained when using the constant evaporation (orange line).</li><ul>    "
   ]
  },
  {
   "cell_type": "markdown",
   "metadata": {},
   "source": [
    "- Write your results in the third cell box below.<br>\n",
    "`Adding realistic values for Q-terms changes the result only in the (x = 'first/last') several years of the integration.`<br>\n",
    "`After 2016 V_real in autumn is on average about (y1 = number) m3 less than V_mak and after 2019 this number increases to more than (y2 = number).`"
   ]
  },
  {
   "cell_type": "code",
   "execution_count": null,
   "metadata": {},
   "outputs": [],
   "source": [
    "# Add realistic values for Ql_in, Qk_in and Qk_out\n",
    "# For horizontal conductivity: Go to Dinoloket.nl --> Ondergrondmodellen --> Select 'BRO Regis II v2.2. --> \n",
    "#   Zoom in to campus --> Select transect tool --> draw a transect. Finish the transect by double clicking\n",
    "#   on the end point. --> Select 'Toon doorsnede' --> Mouseover the top layer and select \n",
    "#   'Horizontale doorlatendheid (kh)' --> Read the horizontal conductivity from the color scale.\n",
    "# For vertical conductivity: In Dinoloket.nl (same transect): Mouseover the first impermeable layer below your pond -->\n",
    "#   select 'Verticale doorlatendheid (kv)' --> Read out the vertical conductivity from the color scale.\n",
    "#   select 'Dikte' --> Read out the thickness of the impermeable layer.\n",
    "# For isohypses: Go to grondwatertools.nl --> Theme Grondwater --> Grondwaterstanden in beeld --> Isohypsen -->\n",
    "#   Select WVP1 (Water conducting layer 1) --> Select a (not too recent) date & Select a (not too small) \n",
    "#   area including several observation points --> Read h2 (upstream), h1 (downstream), z1 (at the pond) \n",
    "#   and deltax from the map; Inspect seasonal variability!\n",
    "#   Select WVP2 (Water conducting layer 2) --> Select area again --> Read z2 from the map\n",
    "\n",
    "# ENTER REALISTIC VALUES FOR THE FORUM POND OR YOUR GROUP'S LAND UNIT HERE.\n",
    "kh                             = 5.0/24.    # m/d --> m/h Horizontal conductivity\n",
    "kv                             = 3.5e-3/24. # m/d --> m/h Vertical conductivity\n",
    "Ah                             = 100.0      # m2 Vertical area of the area perpendicular to the horizontal water flow.\n",
    "h2                             = 10.0       # m  Isohypse first  water conducting layer upstream\n",
    "h1                             =  6.0       # m  Isohypse first  water conducting layer downstream\n",
    "z1                             =  7.0       # m  Isohypse first  water conducting layer at the pond\n",
    "z2                             =  8.0       # m  Isohypse second water conducting layer at the pond\n",
    "deltax                         = 1200.      # m  Horizontal distance between h1 and h2.\n",
    "deltaz                         = 10.0       # m  Thickness of impermeable layer (from Dinoloket)\n",
    "\n",
    "df_meteo['Ql_in_real']         = Ah * kh/24. * (h2 - h1)/deltax   # m3/h. kh/24h to convert m/d to m/h. Add ditch water and/or overland flow.\n",
    "df_meteo['Qk_in_real' ]        = A  * kv/24. * (z2 - z1)/deltaz   # m3/h Vertical inflow  \n",
    "\n",
    "# ! ENTER REALISTIC VALUES FOR Qk_out OF YOUR GROUP's LANDSCAPE UNIT HERE, based on the depth of the pond \n",
    "# and the conductivity of the layer at the bottom of the pond.\n",
    "df_meteo['Qk_out_real']        = 0.0         # m3/h Vertical outflow  \n",
    "\n",
    "# Initialise arrays.\n",
    "df_meteo['V_real'     ]        = V_ini       # m3   water volume in the pond\n",
    "df_meteo['Ql_out_real']        = 0.          # m3/h lateral outflow\n",
    "df_meteo['dV_dt_real' ]        = 0.0         # m3/h water volume change in time\n",
    "\n",
    "\n",
    "# Time integration. \n",
    "nt                                     = len(df_meteo)\n",
    "for it in range(1, nt):\n",
    "    it_now                             = df_meteo.index[it  ]\n",
    "    it_prev                            = df_meteo.index[it-1]\n",
    "    df_meteo.at[it_now, 'Ql_out_real'] = max(0., df_meteo.at[it_prev, 'V_real'] - V_max)\n",
    "    df_meteo.at[it_now, 'dV_dt_real']  = df_meteo.at[it_now, 'P'         ] - df_meteo.at[it_now, 'E_mak'      ] \\\n",
    "                                       + df_meteo.at[it_now, 'Qk_in_real'] - df_meteo.at[it_now, 'Qk_out_real'] \\\n",
    "                                       + df_meteo.at[it_now, 'Ql_in_real'] - df_meteo.at[it_now, 'Ql_out_real']\n",
    "    df_meteo.at[it_now, 'V_real']      = df_meteo.at[it_prev,'V_real'    ] + df_meteo.at[it_now, 'dV_dt_real' ]*dt "
   ]
  },
  {
   "cell_type": "code",
   "execution_count": null,
   "metadata": {
    "scrolled": false
   },
   "outputs": [],
   "source": [
    "# Save the volumes in the same data frame for easier plotting.\n",
    "df_volume = pd.concat([df_meteo['V'], df_meteo['V_mak'], df_meteo['V_real']], axis=1, sort=False)\n",
    "df_volume.columns = ['V','V_mak','V_real']\n",
    "\n",
    "# Plot the time series of calculated water volume. \n",
    "# Plot Time [year] on x-axis and Volume [m^3] on y-axis. \n",
    "# Note that for easier recognition we divided the volume by 1000. \n",
    "fig4 = (df_volume/1000).iplot(asFigure=True, xTitle='Time [year]', yTitle='Volume [10\\u00b3 m\\u00b3]', width=2) \n",
    "fig4.show()"
   ]
  },
  {
   "cell_type": "code",
   "execution_count": null,
   "metadata": {},
   "outputs": [],
   "source": [
    "# Write your results:\n",
    "# x: Adding realistic values for Q-terms changes the result mostly in the (x = first/last) several years of the integration.\n",
    "# y1, y2: From 2016 V_real in autumn is on average about (y1 = number) m3 less than V_mak, \n",
    "# and after 2019 this number increases to more than (y2 = number).\n",
    "x  = 'last'\n",
    "y1 = 500\n",
    "y2 = 1000\n",
    "\n",
    "nemo.check_my_answer_ISa4_1(x, y1, y2)"
   ]
  },
  {
   "cell_type": "markdown",
   "metadata": {},
   "source": [
    "## Chapter 5: Sensitivity study\n",
    "\n",
    "At this point in the practical, it is important to reflect about what the water balance is really worth. So far, \n",
    "\n",
    "- you set parameters to define the dimensions of the pond,\n",
    "- you quantified the different tendencies, expressing how much different processes contribute to the water balance,\n",
    "- you summed the tendency terms and integrated over time, and\n",
    "- you showed how the resulting volume as a function of time.\n",
    "\n",
    "The model results may suggest that the results are very certain and accurate. In practise, the model results are as reliable as the model formulation and the input data. In reality, not all relevant processes may be included correctly in the model description and the values assigned to evaporation, precipitation, inflow and outflow may be uncertain. As a result, this does not make the model result 100% unreliable, just like they are not 100% reliable. It is somewhere in between. In your group's PBL phase report, you will be asked to discuss the reliability of your results. You might ask youselves: \"How to address this?\"\n",
    "\n",
    "Some numbers are known with a lot of accuracy, while others are less accurate. Additionally, some numbers are important to the model, while others are less important. Fortunately, the model is very flexible and quick. Thus, we can just do numerical experiments:\n",
    "\n",
    "- Consider which numbers are the least accurate and may still influence the model resuls much.\n",
    "- Change the values of these numbers by +10% or +50%, run the model and check how much the model results change. If the model results change less than 10% or 50%, the model is not so sensitive to the process associated to that number. If it changes more than 10% or 50% the model is sensitive to that process.\n",
    "- In your report, you can now quantify how certain the model results are. Before doing the sensitivity study, you did **not know** how accurate the model results are. Now you can tell that the model results are **accurate within a certain confidence interval**, and you can pinpoint the parameters or processes to which the model results are the most sensitive. This is important information for the readers of your report. You do not have to make the model perfect (you won't be able to do that in just one course), but at least you can recommend to better quantify specific parameters or processes in future research.\n",
    "\n",
    "### Exercise 5: Sensitivity study\n",
    "\n",
    "In this exercise, you will perform a sensitivity study with respect to the initial condition of volume ($V_{ini}$) and the lateral inflow ($Q_{l,in}$). Use the code cells below for this purpose.\n",
    "\n",
    "### Question 5.1:\n",
    "\n",
    "1. Is the model sensitive to the initial volume?<br>\n",
    "2. Is the model sensitive to the lateral inflow?<br> \n",
    "3. Do you think you could make the inflow the dominant process by changing it to a certain level?<br>\n",
    "4. What is the most sensitive parameter in the model? \n",
    "\n",
    "To answer question 5.1 do the following:\n",
    "\n",
    "- Change the initial volume in the cell box below (multiply by 0.90) and make a plot of your water volume.<br>\n",
    "\n",
    "\n",
    "- Change the lateral inflow in the cell box below and make a plot of your water volume.<br>\n",
    "\n",
    "- <b>Play with the model</b>: does it matter if you change several things at the same time? Or is it better to change them one by one? How important are other model parameters and variables? Try to identify the ones to which the model is sensitive and the ones that are not sensitive.<br>\n",
    "\n",
    "- Write your answers in the third cell box below. Write your answers by filling in the sentences:<br>\n",
    "`1. The model (x1 = 'is/is not') sensitive to changes in the initial volume. It takes about (x2 = number) years for the pond to fill up in winter with water when we decrease the initial volume by 10%.`<br>\n",
    "`2. The model (y = 'does/does not') show sensitivity to changes in the lateral inflow. `<br>\n",
    "`3. We could make the lateral inflow the dominant process by increasing it up to (z = number) m3/h.`<br>\n",
    "`4. The most sensitive parameter in our model is (u = 'parameter').`"
   ]
  },
  {
   "cell_type": "code",
   "execution_count": null,
   "metadata": {},
   "outputs": [],
   "source": [
    "# Find the sensitivity to Ql,in, Qk,in, Qk,out and initial volume\n",
    "\n",
    "# Change the values for Qlin, Qk_in and Qk_out\n",
    "df_meteo['Ql_in_sens' ]                = 1.0/24.     # m3/h Lateral inflow (orig 1.0)   \n",
    "df_meteo['Qk_in_sens' ]                = 2.0/24.     # m3/h Vertical inflow   \n",
    "df_meteo['Qk_out_sens']                = 1.0/24.     # m3/h Vertical outflow \n",
    "df_meteo['V_sens'     ]                = 1.0 * V_ini # m3   change the initial value by multplying with a factor * 0.90\n",
    "\n",
    "# Initialise arrays\n",
    "df_meteo['Ql_out_sens']                = 0.          # m3/h lateral outflow\n",
    "df_meteo['dV_dt_sens' ]                = 0.0         # m3/h water volume change in time\n",
    "\n",
    "# Time integration. \n",
    "nt                                     = len(df_meteo)\n",
    "for it in range(1, nt):\n",
    "    it_now                             = df_meteo.index[it  ]\n",
    "    it_prev                            = df_meteo.index[it-1]\n",
    "    df_meteo.at[it_now, 'Ql_out_sens'] = max(0., df_meteo.at[it_prev, 'V_sens'] - V_max)\n",
    "    df_meteo.at[it_now, 'dV_dt_sens']  = df_meteo.at[it_now, 'P'         ] - df_meteo.at[it_now, 'E_mak'      ] \\\n",
    "                                       + df_meteo.at[it_now, 'Qk_in_sens'] - df_meteo.at[it_now, 'Qk_out_sens'] \\\n",
    "                                       + df_meteo.at[it_now, 'Ql_in_sens'] - df_meteo.at[it_now, 'Ql_out_sens']\n",
    "    df_meteo.at[it_now, 'V_sens']      = df_meteo.at[it_prev,'V_sens'    ] + df_meteo.at[it_now, 'dV_dt_sens' ]*dt "
   ]
  },
  {
   "cell_type": "code",
   "execution_count": null,
   "metadata": {
    "scrolled": false
   },
   "outputs": [],
   "source": [
    "# Save the volumes in the same data frame for easier plotting.\n",
    "df_volume = pd.concat([df_meteo['V'], df_meteo['V_mak'], df_meteo['V_real'], df_meteo['V_sens']], axis=1, sort=False)\n",
    "df_volume.columns = ['V','V_mak','V_real','V_sens']\n",
    "\n",
    "# Plot the time series of calculated water volume. \n",
    "# Plot Time [year] on x-axis and Volume [m^3] on y-axis. \n",
    "# Note that for easier recogniotion we divided the volume by 1000. \n",
    "fig5 = (df_volume/1000).iplot(asFigure=True, xTitle='Time [year]', yTitle='Volume [10\\u00b3 m\\u00b3]', width=2) \n",
    "fig5.show()"
   ]
  },
  {
   "cell_type": "code",
   "execution_count": null,
   "metadata": {
    "scrolled": false
   },
   "outputs": [],
   "source": [
    "# Write your answers:\n",
    "# x1: The model (x1 = 'is/is not') sensitive to changes in the initial volume. \n",
    "# x2: It takes about (x2 = number) years for the pond to fill up in winter when we decrease the initial volume by 10%. \n",
    "# y: The model (y = 'does/does not') show sensitivity to changes in the lateral inflow.\n",
    "# z: We could make the lateral inflow (Q_l,in) the dominant process by increasing it up to (z = number) m3/24hr.\n",
    "# u: The most sensitive parameters in our model are (u = 'parameter1','parameter2').\n",
    "x1 = 'is'\n",
    "x2 = 2\n",
    "y  = 'does not'\n",
    "z  = 3\n",
    "u  = 'vertical inflow'\n",
    "\n",
    "nemo.check_my_answer_ISa5_1(x1, x2, y, z, u)\n"
   ]
  },
  {
   "cell_type": "markdown",
   "metadata": {},
   "source": [
    "Before you finish, play around with the model. Try to identify important processes, parameters and variables. Try to quantify the sensitivity of the model to those. Can you implement alternative processes, like irrigation? This will help you a lot during the PBL phase of the course.\n",
    "\n",
    "\n",
    "## Chapter 6: Finish the procedure\n",
    "\n",
    "To save your output and close the notebook, please run the next cell and follow the steps below."
   ]
  },
  {
   "cell_type": "code",
   "execution_count": null,
   "metadata": {},
   "outputs": [],
   "source": [
    "df_meteo.to_csv('Data_Output_IntegrationSkills_1.csv', sep=';')"
   ]
  },
  {
   "cell_type": "markdown",
   "metadata": {},
   "source": [
    "Now, to limit the data storage please do the following:\n",
    "\n",
    "go to KERNEL --> RESTART and CLEAR OUTPUT. This removes the interactive graphs from your notebook, but leaves your answers intact.\n",
    "go to FILE --> SAVE and CHECKPOINT. This saves your answers in the notebook\n",
    "go to FILE --> CLOSE and HALT, to shutdown the notebook. You can always come back later and restart."
   ]
  },
  {
   "cell_type": "code",
   "execution_count": null,
   "metadata": {},
   "outputs": [],
   "source": [
    "# Check out which data you have written to that file.\n",
    "df_meteo.keys()"
   ]
  },
  {
   "cell_type": "code",
   "execution_count": null,
   "metadata": {},
   "outputs": [],
   "source": []
  }
 ],
 "metadata": {
  "kernelspec": {
   "display_name": "Python 3 (ipykernel)",
   "language": "python",
   "name": "python3"
  },
  "language_info": {
   "codemirror_mode": {
    "name": "ipython",
    "version": 3
   },
   "file_extension": ".py",
   "mimetype": "text/x-python",
   "name": "python",
   "nbconvert_exporter": "python",
   "pygments_lexer": "ipython3",
   "version": "3.9.5"
  }
 },
 "nbformat": 4,
 "nbformat_minor": 4
}
